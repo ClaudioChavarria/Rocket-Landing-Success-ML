{
 "cells": [
  {
   "cell_type": "markdown",
   "metadata": {},
   "source": [
    "# **Predictive Modeling for Rocket Landing Success**  \n",
    "### *A Machine Learning Approach Using SpaceX Falcon 9 Data* "
   ]
  },
  {
   "cell_type": "markdown",
   "metadata": {},
   "source": [
    "## **Data Collection API**"
   ]
  },
  {
   "cell_type": "markdown",
   "metadata": {},
   "source": [
    "### Installing Essential Python Libraries\n",
    "\n",
    "**`requests`**: Simplifies sending HTTP requests.\n",
    "\n",
    "**`pandas`**: Tools for data analysis and manipulation.\n",
    "\n",
    "**`numpy`**: Library for working with arrays and performing mathematical operations."
   ]
  },
  {
   "cell_type": "code",
   "execution_count": null,
   "metadata": {},
   "outputs": [],
   "source": [
    "!pip install requests \n",
    "!pip install pandas\n",
    "!pip install numpy"
   ]
  },
  {
   "cell_type": "markdown",
   "metadata": {},
   "source": [
    "### Import Libraries"
   ]
  },
  {
   "cell_type": "code",
   "execution_count": 2,
   "metadata": {},
   "outputs": [],
   "source": [
    "import requests\n",
    "import pandas as pd\n",
    "import numpy as np\n",
    "\n",
    "import datetime\n",
    "# Why No `pip install` for `datetime`?\n",
    "# It's a standard Python library, which means it is included with Python by default. \n",
    "# There's no need to install it using `pip`, just import it directly and use it.\n"
   ]
  },
  {
   "cell_type": "markdown",
   "metadata": {},
   "source": [
    "### Setting to Display All Columns And Data in a Dataframe"
   ]
  },
  {
   "cell_type": "code",
   "execution_count": 5,
   "metadata": {},
   "outputs": [],
   "source": [
    "# Setting this option will print all columns of a dataframe\n",
    "pd.set_option('display.max_columns', None)\n",
    "\n",
    "# Setting this option will print all of the data in a feature\n",
    "pd.set_option('display.max_colwidth', None)"
   ]
  },
  {
   "cell_type": "markdown",
   "metadata": {},
   "source": [
    "### Define Auxiliary Functions that help us use the SpaceX API and extract data"
   ]
  },
  {
   "cell_type": "code",
   "execution_count": 9,
   "metadata": {},
   "outputs": [
    {
     "name": "stdout",
     "output_type": "stream",
     "text": [
      "[{'height': {'meters': 22.25, 'feet': 73}, 'diameter': {'meters': 1.68, 'feet': 5.5}, 'mass': {'kg': 30146, 'lb': 66460}, 'first_stage': {'thrust_sea_level': {'kN': 420, 'lbf': 94000}, 'thrust_vacuum': {'kN': 480, 'lbf': 110000}, 'reusable': False, 'engines': 1, 'fuel_amount_tons': 44.3, 'burn_time_sec': 169}, 'second_stage': {'thrust': {'kN': 31, 'lbf': 7000}, 'payloads': {'composite_fairing': {'height': {'meters': 3.5, 'feet': 11.5}, 'diameter': {'meters': 1.5, 'feet': 4.9}}, 'option_1': 'composite fairing'}, 'reusable': False, 'engines': 1, 'fuel_amount_tons': 3.38, 'burn_time_sec': 378}, 'engines': {'isp': {'sea_level': 267, 'vacuum': 304}, 'thrust_sea_level': {'kN': 420, 'lbf': 94000}, 'thrust_vacuum': {'kN': 480, 'lbf': 110000}, 'number': 1, 'type': 'merlin', 'version': '1C', 'layout': 'single', 'engine_loss_max': 0, 'propellant_1': 'liquid oxygen', 'propellant_2': 'RP-1 kerosene', 'thrust_to_weight': 96}, 'landing_legs': {'number': 0, 'material': None}, 'payload_weights': [{'id': 'leo', 'name': 'Low Earth Orbit', 'kg': 450, 'lb': 992}], 'flickr_images': ['https://imgur.com/DaCfMsj.jpg', 'https://imgur.com/azYafd8.jpg'], 'name': 'Falcon 1', 'type': 'rocket', 'active': False, 'stages': 2, 'boosters': 0, 'cost_per_launch': 6700000, 'success_rate_pct': 40, 'first_flight': '2006-03-24', 'country': 'Republic of the Marshall Islands', 'company': 'SpaceX', 'wikipedia': 'https://en.wikipedia.org/wiki/Falcon_1', 'description': 'The Falcon 1 was an expendable launch system privately developed and manufactured by SpaceX during 2006-2009. On 28 September 2008, Falcon 1 became the first privately-developed liquid-fuel launch vehicle to go into orbit around the Earth.', 'id': '5e9d0d95eda69955f709d1eb'}, {'height': {'meters': 70, 'feet': 229.6}, 'diameter': {'meters': 3.7, 'feet': 12}, 'mass': {'kg': 549054, 'lb': 1207920}, 'first_stage': {'thrust_sea_level': {'kN': 7607, 'lbf': 1710000}, 'thrust_vacuum': {'kN': 8227, 'lbf': 1849500}, 'reusable': True, 'engines': 9, 'fuel_amount_tons': 385, 'burn_time_sec': 162}, 'second_stage': {'thrust': {'kN': 934, 'lbf': 210000}, 'payloads': {'composite_fairing': {'height': {'meters': 13.1, 'feet': 43}, 'diameter': {'meters': 5.2, 'feet': 17.1}}, 'option_1': 'dragon'}, 'reusable': False, 'engines': 1, 'fuel_amount_tons': 90, 'burn_time_sec': 397}, 'engines': {'isp': {'sea_level': 288, 'vacuum': 312}, 'thrust_sea_level': {'kN': 845, 'lbf': 190000}, 'thrust_vacuum': {'kN': 914, 'lbf': 205500}, 'number': 9, 'type': 'merlin', 'version': '1D+', 'layout': 'octaweb', 'engine_loss_max': 2, 'propellant_1': 'liquid oxygen', 'propellant_2': 'RP-1 kerosene', 'thrust_to_weight': 180.1}, 'landing_legs': {'number': 4, 'material': 'carbon fiber'}, 'payload_weights': [{'id': 'leo', 'name': 'Low Earth Orbit', 'kg': 22800, 'lb': 50265}, {'id': 'gto', 'name': 'Geosynchronous Transfer Orbit', 'kg': 8300, 'lb': 18300}, {'id': 'mars', 'name': 'Mars Orbit', 'kg': 4020, 'lb': 8860}], 'flickr_images': ['https://farm1.staticflickr.com/929/28787338307_3453a11a77_b.jpg', 'https://farm4.staticflickr.com/3955/32915197674_eee74d81bb_b.jpg', 'https://farm1.staticflickr.com/293/32312415025_6841e30bf1_b.jpg', 'https://farm1.staticflickr.com/623/23660653516_5b6cb301d1_b.jpg', 'https://farm6.staticflickr.com/5518/31579784413_d853331601_b.jpg', 'https://farm1.staticflickr.com/745/32394687645_a9c54a34ef_b.jpg'], 'name': 'Falcon 9', 'type': 'rocket', 'active': True, 'stages': 2, 'boosters': 0, 'cost_per_launch': 50000000, 'success_rate_pct': 98, 'first_flight': '2010-06-04', 'country': 'United States', 'company': 'SpaceX', 'wikipedia': 'https://en.wikipedia.org/wiki/Falcon_9', 'description': 'Falcon 9 is a two-stage rocket designed and manufactured by SpaceX for the reliable and safe transport of satellites and the Dragon spacecraft into orbit.', 'id': '5e9d0d95eda69973a809d1ec'}, {'height': {'meters': 70, 'feet': 229.6}, 'diameter': {'meters': 12.2, 'feet': 39.9}, 'mass': {'kg': 1420788, 'lb': 3125735}, 'first_stage': {'thrust_sea_level': {'kN': 22819, 'lbf': 5130000}, 'thrust_vacuum': {'kN': 24681, 'lbf': 5548500}, 'reusable': True, 'engines': 27, 'fuel_amount_tons': 1155, 'burn_time_sec': 162}, 'second_stage': {'thrust': {'kN': 934, 'lbf': 210000}, 'payloads': {'composite_fairing': {'height': {'meters': 13.1, 'feet': 43}, 'diameter': {'meters': 5.2, 'feet': 17.1}}, 'option_1': 'dragon'}, 'reusable': False, 'engines': 1, 'fuel_amount_tons': 90, 'burn_time_sec': 397}, 'engines': {'isp': {'sea_level': 288, 'vacuum': 312}, 'thrust_sea_level': {'kN': 845, 'lbf': 190000}, 'thrust_vacuum': {'kN': 914, 'lbf': 205500}, 'number': 27, 'type': 'merlin', 'version': '1D+', 'layout': 'octaweb', 'engine_loss_max': 6, 'propellant_1': 'liquid oxygen', 'propellant_2': 'RP-1 kerosene', 'thrust_to_weight': 180.1}, 'landing_legs': {'number': 12, 'material': 'carbon fiber'}, 'payload_weights': [{'id': 'leo', 'name': 'Low Earth Orbit', 'kg': 63800, 'lb': 140660}, {'id': 'gto', 'name': 'Geosynchronous Transfer Orbit', 'kg': 26700, 'lb': 58860}, {'id': 'mars', 'name': 'Mars Orbit', 'kg': 16800, 'lb': 37040}, {'id': 'pluto', 'name': 'Pluto Orbit', 'kg': 3500, 'lb': 7720}], 'flickr_images': ['https://farm5.staticflickr.com/4599/38583829295_581f34dd84_b.jpg', 'https://farm5.staticflickr.com/4645/38583830575_3f0f7215e6_b.jpg', 'https://farm5.staticflickr.com/4696/40126460511_b15bf84c85_b.jpg', 'https://farm5.staticflickr.com/4711/40126461411_aabc643fd8_b.jpg'], 'name': 'Falcon Heavy', 'type': 'rocket', 'active': True, 'stages': 2, 'boosters': 2, 'cost_per_launch': 90000000, 'success_rate_pct': 100, 'first_flight': '2018-02-06', 'country': 'United States', 'company': 'SpaceX', 'wikipedia': 'https://en.wikipedia.org/wiki/Falcon_Heavy', 'description': 'With the ability to lift into orbit over 54 metric tons (119,000 lb)--a mass equivalent to a 737 jetliner loaded with passengers, crew, luggage and fuel--Falcon Heavy can lift more than twice the payload of the next closest operational vehicle, the Delta IV Heavy, at one-third the cost.', 'id': '5e9d0d95eda69974db09d1ed'}, {'height': {'meters': 118, 'feet': 387}, 'diameter': {'meters': 9, 'feet': 30}, 'mass': {'kg': 1335000, 'lb': 2943000}, 'first_stage': {'thrust_sea_level': {'kN': 128000, 'lbf': 28775544}, 'thrust_vacuum': {'kN': 138000, 'lbf': 31023634}, 'reusable': True, 'engines': 37, 'fuel_amount_tons': 3300, 'burn_time_sec': None}, 'second_stage': {'thrust': {'kN': 1957, 'lbf': 440000}, 'payloads': {'composite_fairing': {'height': {'meters': None, 'feet': None}, 'diameter': {'meters': None, 'feet': None}}, 'option_1': 'Spaceship'}, 'reusable': True, 'engines': 6, 'fuel_amount_tons': 1200, 'burn_time_sec': None}, 'engines': {'isp': {'sea_level': 330, 'vacuum': 380}, 'thrust_sea_level': {'kN': 1780, 'lbf': 400000}, 'thrust_vacuum': {'kN': 1960, 'lbf': 440000}, 'number': 37, 'type': 'raptor', 'version': '', 'layout': None, 'engine_loss_max': None, 'propellant_1': 'liquid oxygen', 'propellant_2': 'liquid methane', 'thrust_to_weight': 107}, 'landing_legs': {'number': 6, 'material': 'stainless steel'}, 'payload_weights': [{'id': 'leo', 'name': 'Low Earth Orbit', 'kg': 150000, 'lb': 330000}, {'id': 'mars', 'name': 'Mars Orbit', 'kg': 100000, 'lb': 220000}, {'id': 'moon', 'name': 'Moon Orbit', 'kg': 100000, 'lb': 220000}], 'flickr_images': ['https://live.staticflickr.com/65535/48954138962_ee541e6755_b.jpg', 'https://live.staticflickr.com/65535/48953946911_e60c5bcc5c_b.jpg', 'https://live.staticflickr.com/65535/48954138922_9c42173f08_b.jpg', 'https://live.staticflickr.com/65535/48953947006_313f01ec93_b.jpg'], 'name': 'Starship', 'type': 'rocket', 'active': False, 'stages': 2, 'boosters': 0, 'cost_per_launch': 7000000, 'success_rate_pct': 0, 'first_flight': '2021-12-01', 'country': 'United States', 'company': 'SpaceX', 'wikipedia': 'https://en.wikipedia.org/wiki/SpaceX_Starship', 'description': 'Starship and Super Heavy Rocket represent a fully reusable transportation system designed to service all Earth orbit needs as well as the Moon and Mars. This two-stage vehicle — composed of the Super Heavy rocket (booster) and Starship (ship) — will eventually replace Falcon 9, Falcon Heavy and Dragon.', 'id': '5e9d0d96eda699382d09d1ee'}]\n"
     ]
    }
   ],
   "source": [
    "# Request to the SpaceX API to Get Rocket data\n",
    "response_test = requests.get(\"https://api.spacexdata.com/v4/rockets/\")\n",
    "print(response_test.json())"
   ]
  },
  {
   "cell_type": "markdown",
   "metadata": {},
   "source": [
    "#### Function to Get Booster Version from Dataset\n",
    "\n",
    "This code block defines a function that is used to extract the booster name information from the `rocket` column in a dataset. The function works as follows:\n",
    "\n",
    "1. **Iterates through each value in the `rocket` column**: For each rocket ID, it sends a request to the SpaceX API.\n",
    "2. **Makes a request to the SpaceX API**: Uses the rocket identifier to fetch additional information about the rocket.\n",
    "3. **Extracts the booster name**: The booster name is retrieved from the JSON response of the API.\n",
    "4. **Appends the booster name to the list**: The booster name is added to the `BoosterVersion` list."
   ]
  },
  {
   "cell_type": "code",
   "execution_count": 13,
   "metadata": {},
   "outputs": [],
   "source": [
    "def getBoosterVersion(data):\n",
    "    for x in data['rocket']:\n",
    "        if x:\n",
    "            reponse = requests.get(\"https://api.spacexdata.com/v4/rockets/\"+str(x)).json()\n",
    "            BoosterVersion.append(response['name'])\n"
   ]
  },
  {
   "cell_type": "markdown",
   "metadata": {},
   "source": [
    "#### Function to Get Launch Site Information from Dataset\n",
    "\n",
    "This code block defines a function that extracts launch site information using the `launchpad` identifier from the dataset. The function works as follows:\n",
    "\n",
    "1. **Iterates through each value in the `launchpad` column**: For each launchpad ID, it sends a request to the SpaceX API.\n",
    "2. **Makes a request to the SpaceX API**: Uses the launchpad identifier to fetch additional information about the launch site.\n",
    "3. **Extracts relevant information**: The launch site name, longitude, and latitude are retrieved from the API's JSON response.\n",
    "4. **Appends the data to the lists**: The launch site name, longitude, and latitude are added to the `LaunchSite`, `Longitude`, and `Latitude` lists, respectively."
   ]
  },
  {
   "cell_type": "code",
   "execution_count": 12,
   "metadata": {},
   "outputs": [],
   "source": [
    "def getLaunchSite(data):\n",
    "    for x in data['launchpad']:\n",
    "       if x:\n",
    "         response = requests.get(\"https://api.spacexdata.com/v4/launchpads/\"+str(x)).json()\n",
    "         Longitude.append(response['longitude'])\n",
    "         Latitude.append(response['latitude'])\n",
    "         LaunchSite.append(response['name'])"
   ]
  },
  {
   "cell_type": "markdown",
   "metadata": {},
   "source": [
    "### Function to Retrieve Rocket Core Data\n",
    "\n",
    "This code block defines a function that extracts and stores additional data related to rocket cores from the SpaceX API. It uses the `cores` column from a dataset to retrieve detailed information about each rocket core. The function works as follows:\n",
    "\n",
    "1. **Checks if a core ID exists**: If the core has a valid identifier (`core`), a request is made to the SpaceX API.\n",
    "2. **Fetches core information**: The API is called to retrieve details about the core, such as the block, reuse count, and serial number.\n",
    "3. **Appends data to lists**: The fetched data is added to the corresponding lists:\n",
    "   - `Block`: The block number, indicating the core's version.\n",
    "   - `ReusedCount`: The number of times the core has been reused.\n",
    "   - `Serial`: The serial number of the core.\n",
    "4. **Extracts additional information from the `cores` column**:\n",
    "   - **Outcome**: The landing outcome (success and type).\n",
    "   - **Flights**: The number of flights for that core.\n",
    "   - **GridFins**: Whether gridfins (air control surfaces) were used.\n",
    "   - **Reused**: Whether the core has been reused.\n",
    "   - **Legs**: Whether legs were used for landing.\n",
    "   - **LandingPad**: The identifier of the landing pad used."
   ]
  },
  {
   "cell_type": "code",
   "execution_count": 15,
   "metadata": {},
   "outputs": [],
   "source": [
    "# Takes the dataset and uses the cores column to call the API and append the data to the lists\n",
    "def getCoreData(data):\n",
    "    for core in data['cores']:\n",
    "            if core['core'] != None:\n",
    "                response = requests.get(\"https://api.spacexdata.com/v4/cores/\"+core['core']).json()\n",
    "                Block.append(response['block'])\n",
    "                ReusedCount.append(response['reuse_count'])\n",
    "                Serial.append(response['serial'])\n",
    "            else:\n",
    "                Block.append(None)\n",
    "                ReusedCount.append(None)\n",
    "                Serial.append(None)\n",
    "            Outcome.append(str(core['landing_success'])+' '+str(core['landing_type']))\n",
    "            Flights.append(core['flight'])\n",
    "            GridFins.append(core['gridfins'])\n",
    "            Reused.append(core['reused'])\n",
    "            Legs.append(core['legs'])\n",
    "            LandingPad.append(core['landpad'])"
   ]
  }
 ],
 "metadata": {
  "kernelspec": {
   "display_name": "base",
   "language": "python",
   "name": "python3"
  },
  "language_info": {
   "codemirror_mode": {
    "name": "ipython",
    "version": 3
   },
   "file_extension": ".py",
   "mimetype": "text/x-python",
   "name": "python",
   "nbconvert_exporter": "python",
   "pygments_lexer": "ipython3",
   "version": "3.12.4"
  }
 },
 "nbformat": 4,
 "nbformat_minor": 2
}
